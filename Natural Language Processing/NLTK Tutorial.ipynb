{
 "cells": [
  {
   "cell_type": "code",
   "execution_count": 1,
   "id": "7d9888ca",
   "metadata": {},
   "outputs": [
    {
     "name": "stdout",
     "output_type": "stream",
     "text": [
      "Requirement already satisfied: nltk in c:\\users\\varshith\\anaconda3\\lib\\site-packages (3.6.5)\n",
      "Requirement already satisfied: click in c:\\users\\varshith\\anaconda3\\lib\\site-packages (from nltk) (8.0.3)\n",
      "Requirement already satisfied: joblib in c:\\users\\varshith\\anaconda3\\lib\\site-packages (from nltk) (1.1.0)\n",
      "Requirement already satisfied: regex>=2021.8.3 in c:\\users\\varshith\\anaconda3\\lib\\site-packages (from nltk) (2021.8.3)\n",
      "Requirement already satisfied: tqdm in c:\\users\\varshith\\anaconda3\\lib\\site-packages (from nltk) (4.62.3)\n",
      "Requirement already satisfied: colorama in c:\\users\\varshith\\appdata\\roaming\\python\\python39\\site-packages (from click->nltk) (0.4.4)\n"
     ]
    }
   ],
   "source": [
    "!pip install nltk"
   ]
  },
  {
   "cell_type": "code",
   "execution_count": 2,
   "id": "64a1d2ae",
   "metadata": {},
   "outputs": [],
   "source": [
    "import nltk"
   ]
  },
  {
   "cell_type": "code",
   "execution_count": 35,
   "id": "b2497ff0",
   "metadata": {},
   "outputs": [
    {
     "name": "stdout",
     "output_type": "stream",
     "text": [
      "showing info https://raw.githubusercontent.com/nltk/nltk_data/gh-pages/index.xml\n"
     ]
    },
    {
     "data": {
      "text/plain": [
       "True"
      ]
     },
     "execution_count": 35,
     "metadata": {},
     "output_type": "execute_result"
    }
   ],
   "source": [
    "nltk.download()"
   ]
  },
  {
   "cell_type": "markdown",
   "id": "159e667c",
   "metadata": {},
   "source": [
    "## Tokenization\n",
    "- Word Tokenization\n",
    "- Sentence Tokenization"
   ]
  },
  {
   "cell_type": "markdown",
   "id": "7ea1cadd",
   "metadata": {},
   "source": [
    "#### Word Tokenization"
   ]
  },
  {
   "cell_type": "code",
   "execution_count": 4,
   "id": "681a031c",
   "metadata": {},
   "outputs": [
    {
     "name": "stderr",
     "output_type": "stream",
     "text": [
      "[nltk_data] Downloading package punkt to\n",
      "[nltk_data]     C:\\Users\\Varshith\\AppData\\Roaming\\nltk_data...\n",
      "[nltk_data]   Unzipping tokenizers\\punkt.zip.\n"
     ]
    },
    {
     "data": {
      "text/plain": [
       "True"
      ]
     },
     "execution_count": 4,
     "metadata": {},
     "output_type": "execute_result"
    }
   ],
   "source": [
    "from nltk.tokenize import word_tokenize\n",
    "\n",
    "nltk.download('punkt')\n"
   ]
  },
  {
   "cell_type": "code",
   "execution_count": 5,
   "id": "9cdf1b4b",
   "metadata": {},
   "outputs": [
    {
     "data": {
      "text/plain": [
       "['We', 'are', 'learning', 'natural', 'language', 'processing']"
      ]
     },
     "execution_count": 5,
     "metadata": {},
     "output_type": "execute_result"
    }
   ],
   "source": [
    "word_tokenize(\"We are learning natural language processing\")"
   ]
  },
  {
   "cell_type": "code",
   "execution_count": 6,
   "id": "c9e8376e",
   "metadata": {},
   "outputs": [
    {
     "data": {
      "text/plain": [
       "['we',\n",
       " 'have',\n",
       " 'learned',\n",
       " 'word',\n",
       " 'tokenization',\n",
       " '.',\n",
       " 'next',\n",
       " 'we',\n",
       " 'will',\n",
       " 'learn',\n",
       " 'about',\n",
       " 'sentence',\n",
       " 'tokenization',\n",
       " '.',\n",
       " 'there',\n",
       " 'are',\n",
       " 'many',\n",
       " 'options',\n",
       " 'for',\n",
       " 'tokenization',\n",
       " 'using',\n",
       " 'nltk',\n",
       " '.']"
      ]
     },
     "execution_count": 6,
     "metadata": {},
     "output_type": "execute_result"
    }
   ],
   "source": [
    "s = \"\"\"We have learned word tokenization.\n",
    "Next we will learn about sentence tokenization.\n",
    "There are many options for tokenization us'ing nltk.\"\"\"\n",
    "\n",
    "word_tokenize(s.lower())\n"
   ]
  },
  {
   "cell_type": "code",
   "execution_count": 7,
   "id": "b69b7fb8",
   "metadata": {},
   "outputs": [],
   "source": [
    "# WordPunctTokenizer\n",
    "from nltk.tokenize import WordPunctTokenizer\n",
    "tokenizer = WordPunctTokenizer()\n"
   ]
  },
  {
   "cell_type": "code",
   "execution_count": 8,
   "id": "b799203d",
   "metadata": {},
   "outputs": [
    {
     "data": {
      "text/plain": [
       "['you', 'shouldn', \"'\", 't', 'procrastinate', 'your', 'projects']"
      ]
     },
     "execution_count": 8,
     "metadata": {},
     "output_type": "execute_result"
    }
   ],
   "source": [
    "s = \"You shouldn't procrastinate your projects\"\n",
    "tokenizer.tokenize(s.lower())\n"
   ]
  },
  {
   "cell_type": "markdown",
   "id": "b91d192a",
   "metadata": {},
   "source": [
    "### Filtering StopWords"
   ]
  },
  {
   "cell_type": "code",
   "execution_count": 9,
   "id": "3256b059",
   "metadata": {},
   "outputs": [
    {
     "name": "stderr",
     "output_type": "stream",
     "text": [
      "[nltk_data] Downloading package stopwords to\n",
      "[nltk_data]     C:\\Users\\Varshith\\AppData\\Roaming\\nltk_data...\n",
      "[nltk_data]   Unzipping corpora\\stopwords.zip.\n"
     ]
    },
    {
     "data": {
      "text/plain": [
       "True"
      ]
     },
     "execution_count": 9,
     "metadata": {},
     "output_type": "execute_result"
    }
   ],
   "source": [
    "nltk.download('stopwords')\n"
   ]
  },
  {
   "cell_type": "code",
   "execution_count": 10,
   "id": "2391f8f9",
   "metadata": {},
   "outputs": [
    {
     "data": {
      "text/plain": [
       "{'a',\n",
       " 'about',\n",
       " 'above',\n",
       " 'after',\n",
       " 'again',\n",
       " 'against',\n",
       " 'ain',\n",
       " 'all',\n",
       " 'am',\n",
       " 'an',\n",
       " 'and',\n",
       " 'any',\n",
       " 'are',\n",
       " 'aren',\n",
       " \"aren't\",\n",
       " 'as',\n",
       " 'at',\n",
       " 'be',\n",
       " 'because',\n",
       " 'been',\n",
       " 'before',\n",
       " 'being',\n",
       " 'below',\n",
       " 'between',\n",
       " 'both',\n",
       " 'but',\n",
       " 'by',\n",
       " 'can',\n",
       " 'couldn',\n",
       " \"couldn't\",\n",
       " 'd',\n",
       " 'did',\n",
       " 'didn',\n",
       " \"didn't\",\n",
       " 'do',\n",
       " 'does',\n",
       " 'doesn',\n",
       " \"doesn't\",\n",
       " 'doing',\n",
       " 'don',\n",
       " \"don't\",\n",
       " 'down',\n",
       " 'during',\n",
       " 'each',\n",
       " 'few',\n",
       " 'for',\n",
       " 'from',\n",
       " 'further',\n",
       " 'had',\n",
       " 'hadn',\n",
       " \"hadn't\",\n",
       " 'has',\n",
       " 'hasn',\n",
       " \"hasn't\",\n",
       " 'have',\n",
       " 'haven',\n",
       " \"haven't\",\n",
       " 'having',\n",
       " 'he',\n",
       " 'her',\n",
       " 'here',\n",
       " 'hers',\n",
       " 'herself',\n",
       " 'him',\n",
       " 'himself',\n",
       " 'his',\n",
       " 'how',\n",
       " 'i',\n",
       " 'if',\n",
       " 'in',\n",
       " 'into',\n",
       " 'is',\n",
       " 'isn',\n",
       " \"isn't\",\n",
       " 'it',\n",
       " \"it's\",\n",
       " 'its',\n",
       " 'itself',\n",
       " 'just',\n",
       " 'll',\n",
       " 'm',\n",
       " 'ma',\n",
       " 'me',\n",
       " 'mightn',\n",
       " \"mightn't\",\n",
       " 'more',\n",
       " 'most',\n",
       " 'mustn',\n",
       " \"mustn't\",\n",
       " 'my',\n",
       " 'myself',\n",
       " 'needn',\n",
       " \"needn't\",\n",
       " 'no',\n",
       " 'nor',\n",
       " 'not',\n",
       " 'now',\n",
       " 'o',\n",
       " 'of',\n",
       " 'off',\n",
       " 'on',\n",
       " 'once',\n",
       " 'only',\n",
       " 'or',\n",
       " 'other',\n",
       " 'our',\n",
       " 'ours',\n",
       " 'ourselves',\n",
       " 'out',\n",
       " 'over',\n",
       " 'own',\n",
       " 're',\n",
       " 's',\n",
       " 'same',\n",
       " 'shan',\n",
       " \"shan't\",\n",
       " 'she',\n",
       " \"she's\",\n",
       " 'should',\n",
       " \"should've\",\n",
       " 'shouldn',\n",
       " \"shouldn't\",\n",
       " 'so',\n",
       " 'some',\n",
       " 'such',\n",
       " 't',\n",
       " 'than',\n",
       " 'that',\n",
       " \"that'll\",\n",
       " 'the',\n",
       " 'their',\n",
       " 'theirs',\n",
       " 'them',\n",
       " 'themselves',\n",
       " 'then',\n",
       " 'there',\n",
       " 'these',\n",
       " 'they',\n",
       " 'this',\n",
       " 'those',\n",
       " 'through',\n",
       " 'to',\n",
       " 'too',\n",
       " 'under',\n",
       " 'until',\n",
       " 'up',\n",
       " 've',\n",
       " 'very',\n",
       " 'was',\n",
       " 'wasn',\n",
       " \"wasn't\",\n",
       " 'we',\n",
       " 'were',\n",
       " 'weren',\n",
       " \"weren't\",\n",
       " 'what',\n",
       " 'when',\n",
       " 'where',\n",
       " 'which',\n",
       " 'while',\n",
       " 'who',\n",
       " 'whom',\n",
       " 'why',\n",
       " 'will',\n",
       " 'with',\n",
       " 'won',\n",
       " \"won't\",\n",
       " 'wouldn',\n",
       " \"wouldn't\",\n",
       " 'y',\n",
       " 'you',\n",
       " \"you'd\",\n",
       " \"you'll\",\n",
       " \"you're\",\n",
       " \"you've\",\n",
       " 'your',\n",
       " 'yours',\n",
       " 'yourself',\n",
       " 'yourselves'}"
      ]
     },
     "execution_count": 10,
     "metadata": {},
     "output_type": "execute_result"
    }
   ],
   "source": [
    "from nltk.corpus import stopwords\n",
    "stop_words = set(stopwords.words('english'))\n",
    "stop_words\n"
   ]
  },
  {
   "cell_type": "code",
   "execution_count": 11,
   "id": "a24ed830",
   "metadata": {},
   "outputs": [
    {
     "data": {
      "text/plain": [
       "['Hello',\n",
       " 'how',\n",
       " 'are',\n",
       " 'you',\n",
       " 'where',\n",
       " 'have',\n",
       " 'you',\n",
       " 'been',\n",
       " '?',\n",
       " 'Dead',\n",
       " 'i',\n",
       " 'guess']"
      ]
     },
     "execution_count": 11,
     "metadata": {},
     "output_type": "execute_result"
    }
   ],
   "source": [
    "# Without filtering stopwords\n",
    "s = 'Hello how are you where have you been? Dead i guess'\n",
    "words = word_tokenize(s)\n",
    "words\n"
   ]
  },
  {
   "cell_type": "code",
   "execution_count": 12,
   "id": "f9a57d11",
   "metadata": {},
   "outputs": [
    {
     "data": {
      "text/plain": [
       "['Hello', '?', 'Dead', 'guess']"
      ]
     },
     "execution_count": 12,
     "metadata": {},
     "output_type": "execute_result"
    }
   ],
   "source": [
    "filtered_words = [word for word in words if word not in stop_words]\n",
    "filtered_words\n"
   ]
  },
  {
   "cell_type": "markdown",
   "id": "275a5af4",
   "metadata": {},
   "source": [
    "#### Sentence Tokenization"
   ]
  },
  {
   "cell_type": "code",
   "execution_count": 13,
   "id": "dfdf5651",
   "metadata": {},
   "outputs": [],
   "source": [
    "from nltk.tokenize import sent_tokenize"
   ]
  },
  {
   "cell_type": "code",
   "execution_count": 14,
   "id": "8b7517da",
   "metadata": {},
   "outputs": [
    {
     "data": {
      "text/plain": [
       "['We have learned word tokenization.',\n",
       " 'We have learned how to filter stopwords.',\n",
       " 'Now we will learn about sentence tokenization.',\n",
       " 'Here a sentence is treated as a meaningful unit rather than a word']"
      ]
     },
     "execution_count": 14,
     "metadata": {},
     "output_type": "execute_result"
    }
   ],
   "source": [
    "s = \"\"\"We have learned word tokenization.\n",
    "We have learned how to filter stopwords.\n",
    "Now we will learn about sentence tokenization.\n",
    "Here a sentence is treated as a meaningful unit rather than a word\"\"\"\n",
    "\n",
    "sent_tokenize(s)\n"
   ]
  },
  {
   "cell_type": "markdown",
   "id": "846d0691",
   "metadata": {},
   "source": [
    "### Stemming"
   ]
  },
  {
   "cell_type": "code",
   "execution_count": 15,
   "id": "98acc574",
   "metadata": {},
   "outputs": [],
   "source": [
    "from nltk.stem import PorterStemmer\n",
    "stemmer=PorterStemmer()"
   ]
  },
  {
   "cell_type": "code",
   "execution_count": 16,
   "id": "c65a4798",
   "metadata": {},
   "outputs": [
    {
     "data": {
      "text/plain": [
       "'break'"
      ]
     },
     "execution_count": 16,
     "metadata": {},
     "output_type": "execute_result"
    }
   ],
   "source": [
    "stemmer.stem(\"breaks\")"
   ]
  },
  {
   "cell_type": "code",
   "execution_count": 17,
   "id": "08021014",
   "metadata": {},
   "outputs": [
    {
     "data": {
      "text/plain": [
       "'continu'"
      ]
     },
     "execution_count": 17,
     "metadata": {},
     "output_type": "execute_result"
    }
   ],
   "source": [
    "stemmer.stem(\"continued\")# it will not works for all"
   ]
  },
  {
   "cell_type": "code",
   "execution_count": 18,
   "id": "2507b817",
   "metadata": {},
   "outputs": [
    {
     "data": {
      "text/plain": [
       "['we',\n",
       " 'have',\n",
       " 'learned',\n",
       " 'word',\n",
       " 'tokenization',\n",
       " '.',\n",
       " 'we',\n",
       " 'have',\n",
       " 'learned',\n",
       " 'how',\n",
       " 'to',\n",
       " 'filter',\n",
       " 'stopwords',\n",
       " '.',\n",
       " 'now',\n",
       " 'we',\n",
       " 'will',\n",
       " 'learn',\n",
       " 'about',\n",
       " 'sentence',\n",
       " 'tokenization',\n",
       " '.',\n",
       " 'here',\n",
       " 'a',\n",
       " 'sentence',\n",
       " 'is',\n",
       " 'treated',\n",
       " 'as',\n",
       " 'a',\n",
       " 'meaningful',\n",
       " 'unit',\n",
       " 'rather',\n",
       " 'than',\n",
       " 'a',\n",
       " 'word',\n",
       " '.',\n",
       " 'learning',\n",
       " 'natural',\n",
       " 'language',\n",
       " 'processing',\n",
       " 'is',\n",
       " 'fun',\n",
       " '.']"
      ]
     },
     "execution_count": 18,
     "metadata": {},
     "output_type": "execute_result"
    }
   ],
   "source": [
    "s = \"\"\"We have learned word tokenization.\n",
    "We have learned how to filter stopwords.\n",
    "Now we will learn about sentence tokenization.\n",
    "Here a sentence is treated as a meaningful unit rather than a word.\n",
    "Learning Natural Language Processing is fun.\"\"\"\n",
    "\n",
    "words = word_tokenize(s.lower())\n",
    "words\n"
   ]
  },
  {
   "cell_type": "code",
   "execution_count": 19,
   "id": "95594bda",
   "metadata": {},
   "outputs": [
    {
     "data": {
      "text/plain": [
       "['we',\n",
       " 'have',\n",
       " 'learn',\n",
       " 'word',\n",
       " 'token',\n",
       " '.',\n",
       " 'we',\n",
       " 'have',\n",
       " 'learn',\n",
       " 'how',\n",
       " 'to',\n",
       " 'filter',\n",
       " 'stopword',\n",
       " '.',\n",
       " 'now',\n",
       " 'we',\n",
       " 'will',\n",
       " 'learn',\n",
       " 'about',\n",
       " 'sentenc',\n",
       " 'token',\n",
       " '.',\n",
       " 'here',\n",
       " 'a',\n",
       " 'sentenc',\n",
       " 'is',\n",
       " 'treat',\n",
       " 'as',\n",
       " 'a',\n",
       " 'meaning',\n",
       " 'unit',\n",
       " 'rather',\n",
       " 'than',\n",
       " 'a',\n",
       " 'word',\n",
       " '.',\n",
       " 'learn',\n",
       " 'natur',\n",
       " 'languag',\n",
       " 'process',\n",
       " 'is',\n",
       " 'fun',\n",
       " '.']"
      ]
     },
     "execution_count": 19,
     "metadata": {},
     "output_type": "execute_result"
    }
   ],
   "source": [
    "stemmed_words = [stemmer.stem(word) for word in words]\n",
    "stemmed_words\n"
   ]
  },
  {
   "cell_type": "code",
   "execution_count": 20,
   "id": "45d4e9a3",
   "metadata": {},
   "outputs": [
    {
     "data": {
      "text/plain": [
       "('arabic',\n",
       " 'danish',\n",
       " 'dutch',\n",
       " 'english',\n",
       " 'finnish',\n",
       " 'french',\n",
       " 'german',\n",
       " 'hungarian',\n",
       " 'italian',\n",
       " 'norwegian',\n",
       " 'porter',\n",
       " 'portuguese',\n",
       " 'romanian',\n",
       " 'russian',\n",
       " 'spanish',\n",
       " 'swedish')"
      ]
     },
     "execution_count": 20,
     "metadata": {},
     "output_type": "execute_result"
    }
   ],
   "source": [
    "# SnowballStemmer\n",
    "from nltk.stem import SnowballStemmer\n",
    "SnowballStemmer.languages\n"
   ]
  },
  {
   "cell_type": "code",
   "execution_count": 21,
   "id": "b3f4091f",
   "metadata": {},
   "outputs": [
    {
     "name": "stdout",
     "output_type": "stream",
     "text": [
      "break\n",
      "chang\n",
      "chang\n",
      "chang\n",
      "write\n",
      "write\n",
      "run\n",
      "troubl\n",
      "broke\n",
      "ran\n",
      "cat\n"
     ]
    }
   ],
   "source": [
    "snow_stemmer = SnowballStemmer('english')\n",
    "print(snow_stemmer.stem('Breaks'))\n",
    "print(snow_stemmer.stem('Changed'))\n",
    "print(snow_stemmer.stem('Changing'))\n",
    "print(snow_stemmer.stem('Changes'))\n",
    "print(snow_stemmer.stem('Writes'))\n",
    "print(snow_stemmer.stem('writing'))\n",
    "print(snow_stemmer.stem('Running'))\n",
    "print(snow_stemmer.stem('Troubled'))\n",
    "print(snow_stemmer.stem('Broke'))\n",
    "print(snow_stemmer.stem('Ran'))\n",
    "print(snow_stemmer.stem('Cats'))\n"
   ]
  },
  {
   "cell_type": "code",
   "execution_count": null,
   "id": "65e0d294",
   "metadata": {},
   "outputs": [],
   "source": []
  },
  {
   "cell_type": "code",
   "execution_count": null,
   "id": "21a82823",
   "metadata": {},
   "outputs": [],
   "source": []
  },
  {
   "cell_type": "markdown",
   "id": "392f5314",
   "metadata": {},
   "source": [
    "### Lemmatization"
   ]
  },
  {
   "cell_type": "code",
   "execution_count": 22,
   "id": "b73b7eee",
   "metadata": {},
   "outputs": [],
   "source": [
    "from nltk.stem import WordNetLemmatizer\n",
    "lemmatizer = WordNetLemmatizer()\n"
   ]
  },
  {
   "cell_type": "code",
   "execution_count": 24,
   "id": "049481ed",
   "metadata": {},
   "outputs": [
    {
     "name": "stderr",
     "output_type": "stream",
     "text": [
      "[nltk_data] Downloading package wordnet to\n",
      "[nltk_data]     C:\\Users\\Varshith\\AppData\\Roaming\\nltk_data...\n"
     ]
    },
    {
     "data": {
      "text/plain": [
       "True"
      ]
     },
     "execution_count": 24,
     "metadata": {},
     "output_type": "execute_result"
    }
   ],
   "source": [
    "nltk.download('wordnet')"
   ]
  },
  {
   "cell_type": "code",
   "execution_count": 25,
   "id": "99282314",
   "metadata": {},
   "outputs": [
    {
     "data": {
      "text/plain": [
       "'cooky'"
      ]
     },
     "execution_count": 25,
     "metadata": {},
     "output_type": "execute_result"
    }
   ],
   "source": [
    "lemmatizer.lemmatize('cookies')"
   ]
  },
  {
   "cell_type": "code",
   "execution_count": 26,
   "id": "b9f9042a",
   "metadata": {},
   "outputs": [
    {
     "data": {
      "text/plain": [
       "'cooki'"
      ]
     },
     "execution_count": 26,
     "metadata": {},
     "output_type": "execute_result"
    }
   ],
   "source": [
    "stemmer.stem('cookies')"
   ]
  },
  {
   "cell_type": "code",
   "execution_count": 27,
   "id": "722f9040",
   "metadata": {},
   "outputs": [
    {
     "data": {
      "text/plain": [
       "'troubled'"
      ]
     },
     "execution_count": 27,
     "metadata": {},
     "output_type": "execute_result"
    }
   ],
   "source": [
    "lemmatizer.lemmatize('troubled')"
   ]
  },
  {
   "cell_type": "code",
   "execution_count": 28,
   "id": "45bfd844",
   "metadata": {},
   "outputs": [
    {
     "data": {
      "text/plain": [
       "'troubl'"
      ]
     },
     "execution_count": 28,
     "metadata": {},
     "output_type": "execute_result"
    }
   ],
   "source": [
    "stemmer.stem('troubled')"
   ]
  },
  {
   "cell_type": "code",
   "execution_count": 29,
   "id": "51bd719d",
   "metadata": {},
   "outputs": [
    {
     "name": "stdout",
     "output_type": "stream",
     "text": [
      "Breaks\n",
      "Changed\n",
      "Changing\n",
      "Changes\n",
      "Writes\n",
      "writing\n",
      "Running\n",
      "Troubled\n",
      "Broke\n",
      "Ran\n",
      "Cats\n"
     ]
    }
   ],
   "source": [
    "print(lemmatizer.lemmatize('Breaks'))\n",
    "print(lemmatizer.lemmatize('Changed'))\n",
    "print(lemmatizer.lemmatize('Changing'))\n",
    "print(lemmatizer.lemmatize('Changes'))\n",
    "print(lemmatizer.lemmatize('Writes'))\n",
    "print(lemmatizer.lemmatize('writing'))\n",
    "print(lemmatizer.lemmatize('Running'))\n",
    "print(lemmatizer.lemmatize('Troubled'))\n",
    "print(lemmatizer.lemmatize('Broke'))\n",
    "print(lemmatizer.lemmatize('Ran'))\n",
    "print(lemmatizer.lemmatize('Cats'))\n"
   ]
  },
  {
   "cell_type": "code",
   "execution_count": 30,
   "id": "c8b8cff2",
   "metadata": {},
   "outputs": [
    {
     "data": {
      "text/plain": [
       "['there',\n",
       " 'were',\n",
       " 'three',\n",
       " 'friends',\n",
       " 'and',\n",
       " 'they',\n",
       " 'were',\n",
       " 'wearing',\n",
       " 'scarves',\n",
       " ',',\n",
       " 'they',\n",
       " 'were',\n",
       " 'still',\n",
       " 'shivering',\n",
       " 'in',\n",
       " 'the',\n",
       " 'snow',\n",
       " ',',\n",
       " 'they',\n",
       " 'were',\n",
       " 'singing',\n",
       " 'a',\n",
       " 'song',\n",
       " 'as',\n",
       " 'it',\n",
       " 'was',\n",
       " 'one',\n",
       " 'of',\n",
       " 'their',\n",
       " 'hobbies']"
      ]
     },
     "execution_count": 30,
     "metadata": {},
     "output_type": "execute_result"
    }
   ],
   "source": [
    "s = \"\"\"there were three friends and they were wearing scarves,\n",
    "they were still shivering in the snow,\n",
    "they were singing a song as it was one of their hobbies\"\"\"\n",
    "\n",
    "words = word_tokenize(s)\n",
    "words\n"
   ]
  },
  {
   "cell_type": "code",
   "execution_count": 31,
   "id": "cc025f1e",
   "metadata": {},
   "outputs": [
    {
     "data": {
      "text/plain": [
       "['there',\n",
       " 'were',\n",
       " 'three',\n",
       " 'friend',\n",
       " 'and',\n",
       " 'they',\n",
       " 'were',\n",
       " 'wearing',\n",
       " 'scarf',\n",
       " ',',\n",
       " 'they',\n",
       " 'were',\n",
       " 'still',\n",
       " 'shivering',\n",
       " 'in',\n",
       " 'the',\n",
       " 'snow',\n",
       " ',',\n",
       " 'they',\n",
       " 'were',\n",
       " 'singing',\n",
       " 'a',\n",
       " 'song',\n",
       " 'a',\n",
       " 'it',\n",
       " 'wa',\n",
       " 'one',\n",
       " 'of',\n",
       " 'their',\n",
       " 'hobby']"
      ]
     },
     "execution_count": 31,
     "metadata": {},
     "output_type": "execute_result"
    }
   ],
   "source": [
    "lemmatized_words = [lemmatizer.lemmatize(word) for word in words]\n",
    "lemmatized_words\n"
   ]
  },
  {
   "cell_type": "markdown",
   "id": "7f503475",
   "metadata": {},
   "source": [
    "## POS (Part Of Speech) Tagging"
   ]
  },
  {
   "cell_type": "code",
   "execution_count": 32,
   "id": "2432fb67",
   "metadata": {},
   "outputs": [
    {
     "name": "stderr",
     "output_type": "stream",
     "text": [
      "[nltk_data] Error loading average_perceptron_tagger: Package\n",
      "[nltk_data]     'average_perceptron_tagger' not found in index\n"
     ]
    },
    {
     "data": {
      "text/plain": [
       "False"
      ]
     },
     "execution_count": 32,
     "metadata": {},
     "output_type": "execute_result"
    }
   ],
   "source": [
    "nltk.download('average_perceptron_tagger')\n"
   ]
  },
  {
   "cell_type": "code",
   "execution_count": 33,
   "id": "4b3f0440",
   "metadata": {},
   "outputs": [
    {
     "data": {
      "text/plain": [
       "['he', 'is', 'running']"
      ]
     },
     "execution_count": 33,
     "metadata": {},
     "output_type": "execute_result"
    }
   ],
   "source": [
    "s = 'He is running'\n",
    "words = word_tokenize(s.lower())\n",
    "words\n"
   ]
  },
  {
   "cell_type": "code",
   "execution_count": 34,
   "id": "a57345bf",
   "metadata": {},
   "outputs": [
    {
     "data": {
      "text/plain": [
       "[('he', 'PRP'), ('is', 'VBZ'), ('running', 'VBG')]"
      ]
     },
     "execution_count": 34,
     "metadata": {},
     "output_type": "execute_result"
    }
   ],
   "source": [
    "nltk.pos_tag(words)"
   ]
  },
  {
   "cell_type": "code",
   "execution_count": 36,
   "id": "bb4ff9bc",
   "metadata": {},
   "outputs": [
    {
     "data": {
      "text/plain": [
       "[('there', 'EX'),\n",
       " ('were', 'VBD'),\n",
       " ('three', 'CD'),\n",
       " ('friends', 'NNS'),\n",
       " ('and', 'CC'),\n",
       " ('they', 'PRP'),\n",
       " ('were', 'VBD'),\n",
       " ('wearing', 'VBG'),\n",
       " ('scarves', 'NNS'),\n",
       " (',', ','),\n",
       " ('they', 'PRP'),\n",
       " ('were', 'VBD'),\n",
       " ('still', 'RB'),\n",
       " ('shivering', 'VBG'),\n",
       " ('in', 'IN'),\n",
       " ('the', 'DT'),\n",
       " ('snow', 'NN'),\n",
       " (',', ','),\n",
       " ('they', 'PRP'),\n",
       " ('were', 'VBD'),\n",
       " ('singing', 'VBG'),\n",
       " ('a', 'DT'),\n",
       " ('song', 'NN'),\n",
       " ('as', 'IN'),\n",
       " ('it', 'PRP'),\n",
       " ('was', 'VBD'),\n",
       " ('one', 'CD'),\n",
       " ('of', 'IN'),\n",
       " ('their', 'PRP$'),\n",
       " ('hobbies', 'NNS')]"
      ]
     },
     "execution_count": 36,
     "metadata": {},
     "output_type": "execute_result"
    }
   ],
   "source": [
    "s = \"\"\"there were three friends and they were wearing scarves,\n",
    "they were still shivering in the snow,\n",
    "they were singing a song as it was one of their hobbies\"\"\"\n",
    "\n",
    "words = word_tokenize(s)\n",
    "\n",
    "nltk.pos_tag(words)\n"
   ]
  },
  {
   "cell_type": "code",
   "execution_count": null,
   "id": "fd22ea5b",
   "metadata": {},
   "outputs": [],
   "source": []
  }
 ],
 "metadata": {
  "kernelspec": {
   "display_name": "Python 3 (ipykernel)",
   "language": "python",
   "name": "python3"
  },
  "language_info": {
   "codemirror_mode": {
    "name": "ipython",
    "version": 3
   },
   "file_extension": ".py",
   "mimetype": "text/x-python",
   "name": "python",
   "nbconvert_exporter": "python",
   "pygments_lexer": "ipython3",
   "version": "3.9.7"
  }
 },
 "nbformat": 4,
 "nbformat_minor": 5
}
