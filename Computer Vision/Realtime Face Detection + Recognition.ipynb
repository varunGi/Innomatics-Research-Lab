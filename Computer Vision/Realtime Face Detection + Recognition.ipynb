{
 "cells": [
  {
   "cell_type": "code",
   "execution_count": 2,
   "id": "3d188289",
   "metadata": {},
   "outputs": [],
   "source": [
    "import cv2\n",
    "import numpy as np\n",
    "import matplotlib.pyplot as plt\n",
    "import os"
   ]
  },
  {
   "cell_type": "code",
   "execution_count": null,
   "id": "206f229d",
   "metadata": {},
   "outputs": [],
   "source": [
    "os.mkdir('abc')"
   ]
  },
  {
   "cell_type": "markdown",
   "id": "e8d60cb6",
   "metadata": {},
   "source": [
    "###  Creating a database"
   ]
  },
  {
   "cell_type": "code",
   "execution_count": null,
   "id": "b244d1d4",
   "metadata": {},
   "outputs": [],
   "source": [
    "os.mkdir(\"dataset\")"
   ]
  },
  {
   "cell_type": "code",
   "execution_count": 3,
   "id": "afc1e2d9",
   "metadata": {},
   "outputs": [],
   "source": [
    "width=300\n",
    "height=200"
   ]
  },
  {
   "cell_type": "code",
   "execution_count": 4,
   "id": "2deb1902",
   "metadata": {},
   "outputs": [
    {
     "ename": "error",
     "evalue": "OpenCV(4.6.0) D:\\a\\opencv-python\\opencv-python\\opencv\\modules\\imgproc\\src\\color.cpp:182: error: (-215:Assertion failed) !_src.empty() in function 'cv::cvtColor'\n",
     "output_type": "error",
     "traceback": [
      "\u001b[1;31m---------------------------------------------------------------------------\u001b[0m",
      "\u001b[1;31merror\u001b[0m                                     Traceback (most recent call last)",
      "Input \u001b[1;32mIn [4]\u001b[0m, in \u001b[0;36m<cell line: 4>\u001b[1;34m()\u001b[0m\n\u001b[0;32m      5\u001b[0m webcam\u001b[38;5;241m=\u001b[39mcv2\u001b[38;5;241m.\u001b[39mVideoCapture(\u001b[38;5;241m0\u001b[39m)\n\u001b[0;32m      6\u001b[0m (_,img)\u001b[38;5;241m=\u001b[39mwebcam\u001b[38;5;241m.\u001b[39mread()\n\u001b[1;32m----> 8\u001b[0m img \u001b[38;5;241m=\u001b[39m \u001b[43mcv2\u001b[49m\u001b[38;5;241;43m.\u001b[39;49m\u001b[43mcvtColor\u001b[49m\u001b[43m(\u001b[49m\u001b[43mimg\u001b[49m\u001b[43m,\u001b[49m\u001b[43m \u001b[49m\u001b[43mcv2\u001b[49m\u001b[38;5;241;43m.\u001b[39;49m\u001b[43mCOLOR_BGR2RGB\u001b[49m\u001b[43m)\u001b[49m\n\u001b[0;32m     11\u001b[0m img_gray\u001b[38;5;241m=\u001b[39mcv2\u001b[38;5;241m.\u001b[39mcvtColor(img, cv2\u001b[38;5;241m.\u001b[39mCOLOR_RGB2GRAY)\n\u001b[0;32m     13\u001b[0m face\u001b[38;5;241m=\u001b[39mfaceCascade\u001b[38;5;241m.\u001b[39mdetectMultiScale(img_gray, \u001b[38;5;241m1.2\u001b[39m, \u001b[38;5;241m4\u001b[39m)\n",
      "\u001b[1;31merror\u001b[0m: OpenCV(4.6.0) D:\\a\\opencv-python\\opencv-python\\opencv\\modules\\imgproc\\src\\color.cpp:182: error: (-215:Assertion failed) !_src.empty() in function 'cv::cvtColor'\n"
     ]
    }
   ],
   "source": [
    "path=\"dataset/images\"\n",
    "count=1\n",
    "faceCascade=cv2.CascadeClassifier('haarcascade_frontalface_default.xml')\n",
    "while(count<5):\n",
    "    webcam=cv2.VideoCapture(0)\n",
    "    (_,img)=webcam.read()\n",
    "    \n",
    "    img = cv2.cvtColor(img, cv2.COLOR_BGR2RGB)\n",
    "    \n",
    "    \n",
    "    img_gray=cv2.cvtColor(img, cv2.COLOR_RGB2GRAY)\n",
    "    \n",
    "    face=faceCascade.detectMultiScale(img_gray, 1.2, 4)\n",
    "    \n",
    "    for (x,y,w,h) in face:\n",
    "        face = img_gray[y : y+h , x : x+w]\n",
    "        face=cv2.resize(face, (width,height))\n",
    "    \n",
    "    cv2.imwrite(\"{}/face{}.jpg\".format(path,count),face)\n",
    "    print(\"Stored {} image:\".format(count))\n",
    "    count+=1"
   ]
  },
  {
   "cell_type": "code",
   "execution_count": 5,
   "id": "f18c4963",
   "metadata": {},
   "outputs": [],
   "source": [
    "webcam.release()"
   ]
  },
  {
   "cell_type": "code",
   "execution_count": 6,
   "id": "e4be441e",
   "metadata": {},
   "outputs": [
    {
     "name": "stdout",
     "output_type": "stream",
     "text": [
      "{0: 'images'}\n"
     ]
    }
   ],
   "source": [
    "import cv2, sys, numpy, os\n",
    "size = 4\n",
    "haar_file='haarcascade_frontalface_default.xml'\n",
    "datasets = \"Dataset\"\n",
    " \n",
    "# Create a list of images and a list of corresponding names\n",
    "(images, labels, names, id) = ([], [], {}, 0)\n",
    "for (subdirs, dirs, files) in os.walk(datasets):\n",
    "    for subdir in dirs:\n",
    "        names[id] = subdir\n",
    "        print(names)\n",
    "        subjectpath = os.path.join(datasets, subdir)\n",
    "        for filename in os.listdir(subjectpath):\n",
    "            path = subjectpath + '/' + filename\n",
    "            label = id\n",
    "            images.append(cv2.imread(path, 0))\n",
    "            labels.append(int(label))\n",
    "        id += 1\n",
    "(width, height) = (130, 100)\n",
    " \n",
    "# Create a Numpy array from the two lists above\n",
    "(images, labels) = [numpy.array(lis) for lis in [images, labels]]\n"
   ]
  },
  {
   "cell_type": "code",
   "execution_count": 7,
   "id": "f6ba99c2",
   "metadata": {},
   "outputs": [
    {
     "data": {
      "text/plain": [
       "<generator object _walk at 0x000001ACF2922DD0>"
      ]
     },
     "execution_count": 7,
     "metadata": {},
     "output_type": "execute_result"
    }
   ],
   "source": [
    "os.walk(datasets)"
   ]
  },
  {
   "cell_type": "code",
   "execution_count": 23,
   "id": "63a870de",
   "metadata": {},
   "outputs": [
    {
     "ename": "AttributeError",
     "evalue": "module 'cv2' has no attribute 'face'",
     "output_type": "error",
     "traceback": [
      "\u001b[1;31m---------------------------------------------------------------------------\u001b[0m",
      "\u001b[1;31mAttributeError\u001b[0m                            Traceback (most recent call last)",
      "Input \u001b[1;32mIn [23]\u001b[0m, in \u001b[0;36m<cell line: 2>\u001b[1;34m()\u001b[0m\n\u001b[0;32m      1\u001b[0m \u001b[38;5;66;03m#Training Fisher classifier\u001b[39;00m\n\u001b[1;32m----> 2\u001b[0m model \u001b[38;5;241m=\u001b[39m \u001b[43mcv2\u001b[49m\u001b[38;5;241;43m.\u001b[39;49m\u001b[43mface\u001b[49m\u001b[38;5;241m.\u001b[39mLBPHFaceRecognizer_create()\n\u001b[0;32m      3\u001b[0m model\u001b[38;5;241m.\u001b[39mtrain(images, labels)\n",
      "\u001b[1;31mAttributeError\u001b[0m: module 'cv2' has no attribute 'face'"
     ]
    }
   ],
   "source": [
    "#Training Fisher classifier\n",
    "model = cv2.face.LBPHFaceRecognizer_create()\n",
    "model.train(images, labels)\n"
   ]
  },
  {
   "cell_type": "code",
   "execution_count": null,
   "id": "63991c92",
   "metadata": {},
   "outputs": [],
   "source": [
    "width,height = 200,150"
   ]
  },
  {
   "cell_type": "code",
   "execution_count": null,
   "id": "7f63097b",
   "metadata": {},
   "outputs": [],
   "source": [
    "face_cascade=cv2.CascadeClassifier(haar_file)\n",
    "webcam=cv2.VideoCapture(0)\n",
    "\n",
    "while True:\n",
    "    _,img=webcam()\n",
    "    img = cv2.cvtCOLOR(img, cv2.COLOR_BGR2RGB)\n",
    "    \n",
    "    gray = cv2.cvtColor(img,cv2.COLOR_BGR2GGRAY)\n",
    "    faces=face_cascade.detectMultiScale(gray,1.2,5)\n",
    "    \n",
    "    for (x,y,w,h) in faces:\n",
    "        face=gray[y: y+h , x:x+w]\n",
    "        face=cv2.resize(face, (width,height))\n",
    "        \n",
    "        prediction=model.prediction(face)\n",
    "        name=names[prediction[0]]\n",
    "        \n",
    "        cv2.rectangle(img, (x,y), (x+h,y+w),(255,0,0),3)\n",
    "        \n",
    "        if prediction[1]<500:\n",
    "            cv2.putText(img,\"%s - %.0f\",  % (name,prediction[1]), (x-10,y-10),cv2.FONT_HERSHEY_PLAIN,1,(255,0,0))\n",
    "        else:\n",
    "            cv2.putText(img,'not recognized',(x-10,y-10),cv2.FONT_HERSHEY_PLAIN,1,(255,0,0))\n",
    "        cv2.imshow(img)\n",
    "        \n",
    "        key=cv2.waitKey(10)\n",
    "        if key ==27:\n",
    "            break"
   ]
  }
 ],
 "metadata": {
  "kernelspec": {
   "display_name": "Python 3 (ipykernel)",
   "language": "python",
   "name": "python3"
  },
  "language_info": {
   "codemirror_mode": {
    "name": "ipython",
    "version": 3
   },
   "file_extension": ".py",
   "mimetype": "text/x-python",
   "name": "python",
   "nbconvert_exporter": "python",
   "pygments_lexer": "ipython3",
   "version": "3.9.7"
  }
 },
 "nbformat": 4,
 "nbformat_minor": 5
}
